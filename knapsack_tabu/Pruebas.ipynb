{
  "nbformat": 4,
  "nbformat_minor": 0,
  "metadata": {
    "colab": {
      "provenance": [],
      "collapsed_sections": [
        "mGjaGgrmaFG0"
      ]
    },
    "kernelspec": {
      "name": "python3",
      "display_name": "Python 3"
    },
    "language_info": {
      "name": "python"
    }
  },
  "cells": [
    {
      "cell_type": "markdown",
      "source": [
        "# Librerías necesarias"
      ],
      "metadata": {
        "id": "mGjaGgrmaFG0"
      }
    },
    {
      "cell_type": "code",
      "source": [
        "#Se necesita importar la librería numpy y random\n",
        "import numpy as np\n",
        "import random"
      ],
      "metadata": {
        "id": "G_AtXTQsPVjT"
      },
      "execution_count": 30,
      "outputs": []
    },
    {
      "cell_type": "markdown",
      "source": [
        "# Codigo de la clase pricipal"
      ],
      "metadata": {
        "id": "j8SgOFJCZ8zS"
      }
    },
    {
      "cell_type": "code",
      "execution_count": 31,
      "metadata": {
        "id": "tLcub6kWPEZk"
      },
      "outputs": [],
      "source": [
        "class ProblemaMochilaMod:\n",
        "    def __init__(self, ítems, utilidades, pesos, límite):\n",
        "        self.ítems = ítems\n",
        "        self.utilidades = np.array([list(utilidades.values())[i] for i in range(len(utilidades))])\n",
        "        self.pesos = np.array([list(pesos.values())[i] for i in range(len(pesos))])\n",
        "        self.límite = límite\n",
        "        self.num_items = len(self.ítems)\n",
        "\n",
        "    def vector_ítems(self, vector):\n",
        "        \"\"\"\n",
        "        Genera una lista de ítems seleccionados basándose en un vector binario.\n",
        "\n",
        "        Parámetros:\n",
        "        - vector (list): Un vector binario donde cada elemento indica la decisión de incluir (1) o no incluir (0) un ítem.\n",
        "\n",
        "        Retorno:\n",
        "        - list: Una lista de ítems asociados a las posiciones donde el valor en el vector es igual a 1.\n",
        "        \"\"\"\n",
        "        return [self.ítems[i] for i in range(len(vector)) if vector[i] == 1]\n",
        "\n",
        "\n",
        "    def generar_solucion_aleatoria(self):\n",
        "        \"\"\"\n",
        "        Genera una solución aleatoria para el problema de la mochila.\n",
        "\n",
        "        Retorna:\n",
        "        - np.array: Un array NumPy que representa una solución aleatoria, donde cada elemento indica la decisión de incluir (1) o no incluir (0) un ítem en la mochila.\n",
        "        \"\"\"\n",
        "        return np.array([random.randint(0, 1) for _ in range(self.num_items)])\n",
        "\n",
        "\n",
        "    def mejor_cambio(self, indices, v_actual):\n",
        "        \"\"\"\n",
        "        Determina el mejor índice de cambio en función de la relación utilidad/peso.\n",
        "\n",
        "        Parámetros:\n",
        "        - indices (list): Lista de índices disponibles para el cambio.\n",
        "        - v_actual (list): Vector binario actual que representa la solución actual.\n",
        "\n",
        "        Retorna:\n",
        "        - int: El índice del mejor cambio en la lista de índices.\n",
        "        \"\"\"\n",
        "        # Inicializar el índice y la utilidad del mejor cambio con el primer índice del conjunto.\n",
        "        i_best = indices[0]\n",
        "        u_best = (self.utilidades[i_best] / self.pesos[i_best]) * ((-1) ** (v_actual[i_best]))\n",
        "\n",
        "        # Iterar sobre los índices restantes y actualizar el índice del mejor cambio si se encuentra una utilidad mejor.\n",
        "        for i in indices:\n",
        "            # Calcular la utilidad para el índice actual.\n",
        "            u_i = (self.utilidades[i] / self.pesos[i]) * ((-1) ** (v_actual[i]))\n",
        "\n",
        "            # Verificar si la utilidad actual es mayor o igual a la utilidad del mejor cambio.\n",
        "            if u_i >= u_best:\n",
        "                i_best = i\n",
        "\n",
        "        # Retornar el índice del mejor cambio.\n",
        "        return i_best\n",
        "\n",
        "\n",
        "    def utilidad(self, vector):\n",
        "        \"\"\"\n",
        "        Calcula la utilidad total asociada a un vector binario dado.\n",
        "\n",
        "        Parámetros:\n",
        "        - vector (list): Un vector binario donde cada elemento indica la decisión de incluir (1) o no incluir (0) un ítem.\n",
        "\n",
        "        Retorna:\n",
        "        - float: La utilidad total calculada multiplicando el vector binario por el vector de utilidades y sumando los productos resultantes.\n",
        "        \"\"\"\n",
        "        return self.utilidades.dot(vector)\n",
        "\n",
        "\n",
        "    def num_solucion(self, vector):\n",
        "        \"\"\"\n",
        "        Convierte un vector binario en un número entero.\n",
        "\n",
        "        Parámetros:\n",
        "        - vector (list): Un vector binario donde cada elemento indica la decisión de incluir (1) o no incluir (0) un ítem.\n",
        "\n",
        "        Retorna:\n",
        "        - int: El número entero resultante de la conversión del vector binario.\n",
        "        \"\"\"\n",
        "        # Inicializar una cadena vacía para almacenar la representación binaria del número.\n",
        "        n_bin = \"\"\n",
        "\n",
        "        # Iterar sobre cada elemento del vector binario.\n",
        "        for bin_value in vector:\n",
        "            # Concatenar la representación en cadena de cada elemento al final de n_bin.\n",
        "            n_bin = n_bin + str(bin_value)\n",
        "\n",
        "        # Convertir la cadena binaria a un número entero en base 2.\n",
        "        return int(n_bin, 2)\n",
        "\n",
        "\n",
        "    def tabu_search(self, max_iter=20, L=8):\n",
        "        \"\"\"\n",
        "        Implementa el algoritmo de búsqueda tabú para resolver el problema de la mochila.\n",
        "\n",
        "        Parámetros:\n",
        "        - max_iter (int): Número máximo de iteraciones del algoritmo (default: 20).\n",
        "        - L (int): Longitud máxima de la lista tabú (default: 8).\n",
        "\n",
        "        Retorna:\n",
        "        - tuple: Una tupla que contiene la mejor solución encontrada, el número asociado a la solución, el peso total y la utilidad total.\n",
        "        \"\"\"\n",
        "\n",
        "        # Inicialización de variables\n",
        "        tabu_list = []  # Lista tabú para almacenar índices prohibidos temporalmente\n",
        "        c = 1  # Contador de iteraciones\n",
        "        X = self.generar_solucion_aleatoria()  # Generar solución aleatoria inicial\n",
        "        X_best = X.copy()  # Mejor solución actual\n",
        "        Curl_W = X_best.dot(self.pesos)  # Peso total de la mejor solución actual\n",
        "\n",
        "        # Bucle principal de la búsqueda tabú\n",
        "        while c <= max_iter:\n",
        "            N = {i for i in range(self.num_items)}  # Conjunto de todos los índices disponibles\n",
        "\n",
        "            # Excluir índices en la lista tabú del conjunto de índices disponibles\n",
        "            if len(tabu_list) != 0:\n",
        "                for i in tabu_list:\n",
        "                    N.remove(i)\n",
        "\n",
        "            aux = set()  # Conjunto auxiliar para almacenar índices que deben ser excluidos\n",
        "            for i in N:\n",
        "                # Verificar si se puede incluir el ítem i sin exceder el límite de peso\n",
        "                if (X[i] == 0) and (Curl_W + self.pesos[i] > self.límite):\n",
        "                    aux.add(i)\n",
        "\n",
        "            N = N - aux  # Actualizar conjunto de índices disponibles\n",
        "\n",
        "            if len(N) != 0:\n",
        "                # Determinar el mejor índice de cambio utilizando la función mejor_cambio\n",
        "                i_posible = self.mejor_cambio(list(N), X)\n",
        "\n",
        "                # Actualizar la lista tabú\n",
        "                if len(tabu_list) < L:\n",
        "                    tabu_list.append(i_posible)\n",
        "                else:\n",
        "                    tabu_list.pop(0)\n",
        "                    tabu_list.append(i_posible)\n",
        "\n",
        "                # Realizar el cambio en la solución actual\n",
        "                X[i_posible] = 1 - X[i_posible]\n",
        "\n",
        "                # Actualizar el peso total de la solución actual\n",
        "                if X[i_posible] == 1:\n",
        "                    Curl_W = Curl_W + self.pesos[i_posible]\n",
        "                else:\n",
        "                    Curl_W = Curl_W - self.pesos[i_posible]\n",
        "\n",
        "                # Actualizar la mejor solución si la nueva solución es mejor\n",
        "                if self.utilidad(X) > self.utilidad(X_best):\n",
        "                    X_best = X.copy()\n",
        "\n",
        "            c += 1\n",
        "\n",
        "    # Retornar la mejor solución encontrada junto con información adicional\n",
        "        return X_best, self.utilidad(X_best), self.num_solucion(X_best), Curl_W"
      ]
    },
    {
      "cell_type": "markdown",
      "source": [
        "\n",
        "# Ejemplos particulares\n",
        "\n"
      ],
      "metadata": {
        "id": "Uexo0EV2EP01"
      }
    },
    {
      "cell_type": "code",
      "source": [
        "# Ejemplo 1\n",
        "item = [\"linterna\", \"libro\", \"baterías\", \"lata\", \"bolsa de dormir\", \"mapa\", \"celular\", \"encendedor\", \"asador\", \"computadora\"]\n",
        "utilidad = {\"linterna\":10, \"libro\":2, \"baterías\":4, \"lata\":7, \"bolsa de dormir\": 20, \"mapa\":6, \"celular\":7, \"encendedor\": 8, \"asador\":6, \"computadora\":7}\n",
        "peso = {\"linterna\":3, \"libro\":5, \"baterías\":1, \"lata\":3, \"bolsa de dormir\": 8, \"mapa\":1, \"celular\": 2, \"encendedor\":1, \"asador\":10, \"computadora\":1}\n",
        "lím = 10\n",
        "\n",
        "Caso_1=ProblemaMochilaMod(ítems=item, utilidades=utilidad, pesos=peso, límite=lím)"
      ],
      "metadata": {
        "id": "w3_ym_ISSfnI"
      },
      "execution_count": 32,
      "outputs": []
    },
    {
      "cell_type": "code",
      "source": [
        "# Ejemplo 2\n",
        "item_2 = [\"linterna\", \"libro\", \"baterías\", \"lata\", \"bolsa de dormir\"]\n",
        "utilidad_2 = {\"linterna\":10, \"libro\":2, \"baterías\":4, \"lata\":7, \"bolsa de dormir\": 20}\n",
        "peso_2 = {\"linterna\":3, \"libro\":5, \"baterías\":2, \"lata\":4, \"bolsa de dormir\": 8}\n",
        "lím_2 = 9\n",
        "\n",
        "Caso_2 = ProblemaMochilaMod(ítems=item_2, utilidades=utilidad_2, pesos=peso_2, límite=lím_2)"
      ],
      "metadata": {
        "id": "7m7wCPA6JIhx"
      },
      "execution_count": 18,
      "outputs": []
    },
    {
      "cell_type": "code",
      "source": [
        "#Ejemplo 3\n",
        "item_3  = [\"Caja azul\",\"Caja amarilla\",\"Caja naranja\",\"Caja gris\", \"Caja verde\"]\n",
        "precio= {\"Caja azul\":2, \"Caja amarilla\":10, \"Caja naranja\":1, \"Caja gris\":2, \"Caja verde\":4 }\n",
        "peso_3= {\"Caja azul\":2, \"Caja amarilla\":4, \"Caja naranja\":1, \"Caja gris\":1, \"Caja verde\":12 }\n",
        "lim_3= 15\n",
        "Caso_3 = ProblemaMochilaMod(ítems=item_3, utilidades=precio, pesos=peso_3, límite=lim_3)\n"
      ],
      "metadata": {
        "id": "2TzNpk-S0D4s"
      },
      "execution_count": 19,
      "outputs": []
    },
    {
      "cell_type": "markdown",
      "source": [
        "# Soluciones de los ejemplos"
      ],
      "metadata": {
        "id": "RFNNAVFKTg1Q"
      }
    },
    {
      "cell_type": "code",
      "source": [
        "#Solución ejemplo 1\n",
        "mejor_solucion_encontrada = Caso_1.tabu_search(30,8)\n",
        "mejor_solucion_encontrada, Caso_1.vector_ítems(mejor_solucion_encontrada[0])"
      ],
      "metadata": {
        "colab": {
          "base_uri": "https://localhost:8080/"
        },
        "id": "H6TwmQHGYNwO",
        "outputId": "e5fe9334-c2b3-4d76-a04e-cbb8b50da2ce"
      },
      "execution_count": 27,
      "outputs": [
        {
          "output_type": "execute_result",
          "data": {
            "text/plain": [
              "((array([1, 0, 1, 0, 0, 1, 1, 1, 0, 1]), 42, 669, 8),\n",
              " ['linterna', 'baterías', 'mapa', 'celular', 'encendedor', 'computadora'])"
            ]
          },
          "metadata": {},
          "execution_count": 27
        }
      ]
    },
    {
      "cell_type": "code",
      "source": [
        "#Solución ejemplo 2\n",
        "mejor_solucion_encontrada_2 = Caso_2.tabu_search(15,8)\n",
        "mejor_solucion_encontrada_2, Caso_2.vector_ítems(mejor_solucion_encontrada_2[0])"
      ],
      "metadata": {
        "colab": {
          "base_uri": "https://localhost:8080/"
        },
        "id": "-5vrbyxnJL08",
        "outputId": "967b7860-09e0-4f93-83a7-84bd1a68aa2d"
      },
      "execution_count": 28,
      "outputs": [
        {
          "output_type": "execute_result",
          "data": {
            "text/plain": [
              "((array([0, 0, 1, 1, 1]), 31, 7, 8), ['baterías', 'lata', 'bolsa de dormir'])"
            ]
          },
          "metadata": {},
          "execution_count": 28
        }
      ]
    },
    {
      "cell_type": "code",
      "source": [
        "#Solución ejemplo 3\n",
        "mejor_solucion_encontrada_3 = Caso_3.tabu_search(30,8)\n",
        "mejor_solucion_encontrada_3, Caso_3.vector_ítems(mejor_solucion_encontrada_3[0])"
      ],
      "metadata": {
        "colab": {
          "base_uri": "https://localhost:8080/"
        },
        "id": "zw1RZzY4FY4R",
        "outputId": "88fe0157-586f-4ad7-e0d6-7ac6e9695de5"
      },
      "execution_count": 29,
      "outputs": [
        {
          "output_type": "execute_result",
          "data": {
            "text/plain": [
              "((array([1, 1, 1, 1, 0]), 15, 30, 12),\n",
              " ['Caja azul', 'Caja amarilla', 'Caja naranja', 'Caja gris'])"
            ]
          },
          "metadata": {},
          "execution_count": 29
        }
      ]
    }
  ]
}