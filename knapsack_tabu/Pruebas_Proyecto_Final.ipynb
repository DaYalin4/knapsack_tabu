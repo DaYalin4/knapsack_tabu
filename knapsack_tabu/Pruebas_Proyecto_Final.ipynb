{
  "nbformat": 4,
  "nbformat_minor": 0,
  "metadata": {
    "colab": {
      "provenance": [],
      "collapsed_sections": [
        "mGjaGgrmaFG0"
      ]
    },
    "kernelspec": {
      "name": "python3",
      "display_name": "Python 3"
    },
    "language_info": {
      "name": "python"
    }
  },
  "cells": [
    {
      "cell_type": "markdown",
      "source": [
        "# Librerías necesarias"
      ],
      "metadata": {
        "id": "mGjaGgrmaFG0"
      }
    },
    {
      "cell_type": "code",
      "source": [
        "import numpy as np\n",
        "import random"
      ],
      "metadata": {
        "id": "G_AtXTQsPVjT"
      },
      "execution_count": 3,
      "outputs": []
    },
    {
      "cell_type": "markdown",
      "source": [
        "# Codigo de la clase pricipal"
      ],
      "metadata": {
        "id": "j8SgOFJCZ8zS"
      }
    },
    {
      "cell_type": "code",
      "execution_count": 1,
      "metadata": {
        "id": "tLcub6kWPEZk"
      },
      "outputs": [],
      "source": [
        "import numpy as np\n",
        "class ProblemaMochila:\n",
        "    def __init__(self, ítems, utilidades, pesos, límite):\n",
        "        self.ítems = ítems\n",
        "        self.utilidades = np.array([list(utilidades.values())[i] for i in range(len(utilidades))])\n",
        "        self.pesos = np.array([list(pesos.values())[i] for i in range(len(pesos))])\n",
        "        self.límite = límite\n",
        "        self.num_items = len(self.ítems)\n",
        "\n",
        "    def vector_ítems(self, vector):\n",
        "        return [self.ítems[i] for i in range(len(vector)) if vector[i] == 1]\n",
        "\n",
        "    def generar_solucion_aleatoria(self):\n",
        "        return np.array([random.randint(0, 1) for _ in range(self.num_items)])\n",
        "\n",
        "    def mejor_cambio(self, indices, v_actual):\n",
        "        i_best = indices[0]\n",
        "        u_best = (self.utilidades[i_best]/self.pesos[i_best])*((-1)**(v_actual[i_best]))\n",
        "        for i in indices:\n",
        "            u_i = (self.utilidades[i]/self.pesos[i])*((-1)**(v_actual[i]))\n",
        "            if u_i >= u_best:\n",
        "                i_best = i\n",
        "        return i_best\n",
        "\n",
        "    def utilidad(self, vector):\n",
        "        return self.utilidades.dot(vector)\n",
        "\n",
        "    def num_solucion(self, vector):\n",
        "        n_bin = \"\"\n",
        "        for bin in vector:\n",
        "            n_bin = n_bin + str(bin)\n",
        "        return int(n_bin,2)\n",
        "\n",
        "    def tabu_search(self, max_iter=20, L=8):\n",
        "        tabu_list = [] # C\n",
        "        c = 1\n",
        "        X = self.generar_solucion_aleatoria()\n",
        "        X_best = X.copy()\n",
        "        Curl_W = X_best.dot(self.pesos)\n",
        "        while c<=max_iter:\n",
        "            N = {i for i in range(self.num_items)}\n",
        "            if len(tabu_list) != 0:\n",
        "                for i in tabu_list:\n",
        "                    N.remove(i)\n",
        "            aux = set()\n",
        "            for i in N:\n",
        "                if (X[i] == 0) and (Curl_W + self.pesos[i] > self.límite):\n",
        "                    aux.add(i)\n",
        "            N = N-aux\n",
        "            if len(N) != 0:\n",
        "                i_posible = self.mejor_cambio(list(N), X)\n",
        "                if len(tabu_list) < L:\n",
        "                    tabu_list.append(i_posible)\n",
        "                else:\n",
        "                    tabu_list.pop(0)\n",
        "                    tabu_list.append(i_posible)\n",
        "                X[i_posible] = 1-X[i_posible]\n",
        "                if X[i_posible] == 1:\n",
        "                    Curl_W = Curl_W + self.pesos[i_posible]\n",
        "                else:\n",
        "                    Curl_W = Curl_W - self.pesos[i_posible]\n",
        "                if self.utilidad(X) > self.utilidad(X_best):\n",
        "                    X_best = X.copy()\n",
        "            c += 1\n",
        "        return X_best, self.num_solucion(X_best), Curl_W, self.utilidad(X_best)"
      ]
    },
    {
      "cell_type": "code",
      "source": [
        "def run_tabu_search(problema, L,num_iteraciones):\n",
        "  \"\"\"\n",
        "  Ejecuta la búsqueda tabú con los parámetros especificados.\n",
        "\n",
        "  Args:\n",
        "    problema: Instancia del problema del morral.\n",
        "    L: Longitud de la lista de tabu.\n",
        "    num_iteraciones: Número de iteraciones a ejecutar.\n",
        "\n",
        "  Returns:\n",
        "    Diccionario con los resultados de la búsqueda.\n",
        "  \"\"\"\n",
        "\n",
        "  resultados = {}\n",
        "  for i in range(num_iteraciones):\n",
        "    solucion, num_solucion, Curl_W, utilidad = problema.tabu_search(L)\n",
        "    resultados[i] = {\n",
        "        \"solucion\": solucion.tolist(),\n",
        "        \"num_solucion\": num_solucion,\n",
        "        \"Curl_W\": Curl_W,\n",
        "        \"utilidad\": utilidad,\n",
        "    }\n",
        "  return resultados\n",
        "\n"
      ],
      "metadata": {
        "id": "peFB_AL1w7IC"
      },
      "execution_count": 13,
      "outputs": []
    },
    {
      "cell_type": "code",
      "source": [
        "run_tabu_search(item_2 ,4 ,3)"
      ],
      "metadata": {
        "colab": {
          "base_uri": "https://localhost:8080/",
          "height": 297
        },
        "id": "t_aU01jl2Uld",
        "outputId": "b699bd8f-33a3-41d5-e740-9e4b05cb1aef"
      },
      "execution_count": 11,
      "outputs": [
        {
          "output_type": "error",
          "ename": "AttributeError",
          "evalue": "'list' object has no attribute 'tabu_search'",
          "traceback": [
            "\u001b[0;31m---------------------------------------------------------------------------\u001b[0m",
            "\u001b[0;31mAttributeError\u001b[0m                            Traceback (most recent call last)",
            "\u001b[0;32m<ipython-input-11-939a9e2510fd>\u001b[0m in \u001b[0;36m<cell line: 1>\u001b[0;34m()\u001b[0m\n\u001b[0;32m----> 1\u001b[0;31m \u001b[0mrun_tabu_search\u001b[0m\u001b[0;34m(\u001b[0m\u001b[0mitem_2\u001b[0m \u001b[0;34m,\u001b[0m\u001b[0;36m4\u001b[0m \u001b[0;34m,\u001b[0m\u001b[0;36m3\u001b[0m\u001b[0;34m)\u001b[0m\u001b[0;34m\u001b[0m\u001b[0;34m\u001b[0m\u001b[0m\n\u001b[0m",
            "\u001b[0;32m<ipython-input-5-bbd3103e8db1>\u001b[0m in \u001b[0;36mrun_tabu_search\u001b[0;34m(problema, L, num_iteraciones)\u001b[0m\n\u001b[1;32m     14\u001b[0m   \u001b[0mresultados\u001b[0m \u001b[0;34m=\u001b[0m \u001b[0;34m{\u001b[0m\u001b[0;34m}\u001b[0m\u001b[0;34m\u001b[0m\u001b[0;34m\u001b[0m\u001b[0m\n\u001b[1;32m     15\u001b[0m   \u001b[0;32mfor\u001b[0m \u001b[0mi\u001b[0m \u001b[0;32min\u001b[0m \u001b[0mrange\u001b[0m\u001b[0;34m(\u001b[0m\u001b[0mnum_iteraciones\u001b[0m\u001b[0;34m)\u001b[0m\u001b[0;34m:\u001b[0m\u001b[0;34m\u001b[0m\u001b[0;34m\u001b[0m\u001b[0m\n\u001b[0;32m---> 16\u001b[0;31m     \u001b[0msolucion\u001b[0m\u001b[0;34m,\u001b[0m \u001b[0mnum_solucion\u001b[0m\u001b[0;34m,\u001b[0m \u001b[0mCurl_W\u001b[0m\u001b[0;34m,\u001b[0m \u001b[0mutilidad\u001b[0m \u001b[0;34m=\u001b[0m \u001b[0mproblema\u001b[0m\u001b[0;34m.\u001b[0m\u001b[0mtabu_search\u001b[0m\u001b[0;34m(\u001b[0m\u001b[0mL\u001b[0m\u001b[0;34m)\u001b[0m\u001b[0;34m\u001b[0m\u001b[0;34m\u001b[0m\u001b[0m\n\u001b[0m\u001b[1;32m     17\u001b[0m     resultados[i] = {\n\u001b[1;32m     18\u001b[0m         \u001b[0;34m\"solucion\"\u001b[0m\u001b[0;34m:\u001b[0m \u001b[0msolucion\u001b[0m\u001b[0;34m.\u001b[0m\u001b[0mtolist\u001b[0m\u001b[0;34m(\u001b[0m\u001b[0;34m)\u001b[0m\u001b[0;34m,\u001b[0m\u001b[0;34m\u001b[0m\u001b[0;34m\u001b[0m\u001b[0m\n",
            "\u001b[0;31mAttributeError\u001b[0m: 'list' object has no attribute 'tabu_search'"
          ]
        }
      ]
    },
    {
      "cell_type": "code",
      "source": [
        "# Caso particular Problema de la Mochila\n",
        "item = [\"linterna\", \"libro\", \"baterías\", \"lata\", \"bolsa de dormir\", \"mapa\", \"celular\", \"encendedor\", \"asador\", \"computadora\"]\n",
        "utilidad = {\"linterna\":10, \"libro\":2, \"baterías\":4, \"lata\":7, \"bolsa de dormir\": 20, \"mapa\":6, \"celular\":7, \"encendedor\": 8, \"asador\":6, \"computadora\":7}\n",
        "peso = {\"linterna\":3, \"libro\":5, \"baterías\":1, \"lata\":3, \"bolsa de dormir\": 8, \"mapa\":1, \"celular\": 2, \"encendedor\":1, \"asador\":10, \"computadora\":1}\n",
        "lím = 10\n",
        "\n",
        "Caso_1 = ProblemaMochila(ítems=item, utilidades=utilidad, pesos=peso, límite=lím)\n",
        "item[2]"
      ],
      "metadata": {
        "id": "w3_ym_ISSfnI",
        "colab": {
          "base_uri": "https://localhost:8080/",
          "height": 35
        },
        "outputId": "537f6ce6-2f62-4790-b74b-62d8799c310b"
      },
      "execution_count": 7,
      "outputs": [
        {
          "output_type": "execute_result",
          "data": {
            "text/plain": [
              "'baterías'"
            ],
            "application/vnd.google.colaboratory.intrinsic+json": {
              "type": "string"
            }
          },
          "metadata": {},
          "execution_count": 7
        }
      ]
    },
    {
      "cell_type": "code",
      "source": [
        "item_2 = [\"linterna\", \"libro\", \"baterías\", \"lata\", \"bolsa de dormir\"]\n",
        "utilidad_2 = {\"linterna\":10, \"libro\":2, \"baterías\":4, \"lata\":7, \"bolsa de dormir\": 20}\n",
        "peso_2 = {\"linterna\":3, \"libro\":5, \"baterías\":2, \"lata\":4, \"bolsa de dormir\": 8}\n",
        "lím_2 = 9\n",
        "\n",
        "Caso_2 = ProblemaMochila(ítems=item_2, utilidades=utilidad_2, pesos=peso_2, límite=lím_2)"
      ],
      "metadata": {
        "id": "7m7wCPA6JIhx"
      },
      "execution_count": 8,
      "outputs": []
    },
    {
      "cell_type": "code",
      "source": [
        "item_libro = list(map(str, range(1, 25)))\n",
        "utilidad_2 = {\"1\":10, \"2\":2, \"baterías\":4, \"lata\":7, \"bolsa de dormir\": 20}\n",
        "peso_2 = {\"linterna\":3, \"libro\":5, \"baterías\":2, \"lata\":4, \"bolsa de dormir\": 8}\n",
        "lím_2 = 9"
      ],
      "metadata": {
        "id": "14FH4vK80D_D"
      },
      "execution_count": 12,
      "outputs": []
    },
    {
      "cell_type": "markdown",
      "source": [
        "# Pruebas de los atributos y funciones"
      ],
      "metadata": {
        "id": "RFNNAVFKTg1Q"
      }
    },
    {
      "cell_type": "code",
      "source": [
        "Caso_1.pesos, Caso_1.utilidades, Caso_1.num_items, Caso_1.límite"
      ],
      "metadata": {
        "colab": {
          "base_uri": "https://localhost:8080/"
        },
        "id": "cAEMPAFgTeeO",
        "outputId": "9dcd4895-3aa3-4980-cdc6-dd59a94304f6"
      },
      "execution_count": null,
      "outputs": [
        {
          "output_type": "execute_result",
          "data": {
            "text/plain": [
              "(array([ 3,  5,  1,  3,  8,  1,  2,  1, 10,  1]),\n",
              " array([10,  2,  4,  7, 20,  6,  7,  8,  6,  7]),\n",
              " 10,\n",
              " 10)"
            ]
          },
          "metadata": {},
          "execution_count": 6
        }
      ]
    },
    {
      "cell_type": "code",
      "source": [
        "Caso_1.generar_solucion_aleatoria()"
      ],
      "metadata": {
        "colab": {
          "base_uri": "https://localhost:8080/"
        },
        "id": "X6v5mhIpUfod",
        "outputId": "eea0ce5a-6bb9-4de5-b34d-d535317cd022"
      },
      "execution_count": null,
      "outputs": [
        {
          "output_type": "execute_result",
          "data": {
            "text/plain": [
              "array([1, 0, 1, 0, 0, 0, 0, 0, 1, 0])"
            ]
          },
          "metadata": {},
          "execution_count": 7
        }
      ]
    },
    {
      "cell_type": "code",
      "source": [
        "Caso_1.vector_ítems([1, 1, 1, 0, 1, 1, 0, 1, 0, 0])"
      ],
      "metadata": {
        "colab": {
          "base_uri": "https://localhost:8080/"
        },
        "id": "mTPAVEzRTv1e",
        "outputId": "990cb2f2-f5dd-423c-a0cf-bd48929f130e"
      },
      "execution_count": null,
      "outputs": [
        {
          "output_type": "execute_result",
          "data": {
            "text/plain": [
              "['linterna', 'libro', 'baterías', 'bolsa de dormir', 'mapa', 'encendedor']"
            ]
          },
          "metadata": {},
          "execution_count": 8
        }
      ]
    },
    {
      "cell_type": "code",
      "source": [
        "Caso_1.mejor_cambio([1,3,5,6,9],[1, 1, 1, 0, 1, 1, 0, 1, 0, 0])"
      ],
      "metadata": {
        "colab": {
          "base_uri": "https://localhost:8080/"
        },
        "id": "2aopBc_nWyFM",
        "outputId": "30886fe3-3e98-4919-9cdf-8e32572f2f00"
      },
      "execution_count": null,
      "outputs": [
        {
          "output_type": "execute_result",
          "data": {
            "text/plain": [
              "9"
            ]
          },
          "metadata": {},
          "execution_count": 9
        }
      ]
    },
    {
      "cell_type": "code",
      "source": [
        "Caso_1.utilidad([1, 1, 1, 0, 1, 1, 0, 1, 0, 0])"
      ],
      "metadata": {
        "colab": {
          "base_uri": "https://localhost:8080/"
        },
        "id": "J2WB4RzUX4lt",
        "outputId": "10a99e65-c9d6-4c11-933f-a355f874a13b"
      },
      "execution_count": null,
      "outputs": [
        {
          "output_type": "execute_result",
          "data": {
            "text/plain": [
              "50"
            ]
          },
          "metadata": {},
          "execution_count": 10
        }
      ]
    },
    {
      "cell_type": "code",
      "source": [
        "mejor_solucion_encontrada = Caso_1.tabu_search(20,8)\n",
        "mejor_solucion_encontrada, Caso_1.vector_ítems(mejor_solucion_encontrada[0])"
      ],
      "metadata": {
        "colab": {
          "base_uri": "https://localhost:8080/"
        },
        "id": "H6TwmQHGYNwO",
        "outputId": "82ca44d7-df49-40fb-e7d9-9fdaebfd9905"
      },
      "execution_count": null,
      "outputs": [
        {
          "output_type": "execute_result",
          "data": {
            "text/plain": [
              "((array([1, 0, 1, 0, 0, 1, 1, 1, 0, 1]), 669, 5, 42),\n",
              " ['linterna', 'baterías', 'mapa', 'celular', 'encendedor', 'computadora'])"
            ]
          },
          "metadata": {},
          "execution_count": 10
        }
      ]
    },
    {
      "cell_type": "code",
      "source": [
        "mejor_solucion_encontrada_2 = Caso_2.tabu_search(15,4)\n",
        "mejor_solucion_encontrada_2, Caso_2.vector_ítems(mejor_solucion_encontrada_2[0])"
      ],
      "metadata": {
        "colab": {
          "base_uri": "https://localhost:8080/"
        },
        "id": "-5vrbyxnJL08",
        "outputId": "af24631d-52ff-4ed6-b4f4-8652c0e7965d"
      },
      "execution_count": 10,
      "outputs": [
        {
          "output_type": "execute_result",
          "data": {
            "text/plain": [
              "((array([1, 0, 1, 1, 0]), 22, 9, 21), ['linterna', 'baterías', 'lata'])"
            ]
          },
          "metadata": {},
          "execution_count": 10
        }
      ]
    },
    {
      "cell_type": "markdown",
      "source": [
        "# Pruebas Random"
      ],
      "metadata": {
        "id": "6_EYIzcrZ2SV"
      }
    },
    {
      "cell_type": "code",
      "source": [
        "N = {(1,2),(2,3),(2,5)}\n",
        "N.add((1,2))\n",
        "N.add((2,6))\n",
        "N"
      ],
      "metadata": {
        "colab": {
          "base_uri": "https://localhost:8080/"
        },
        "id": "e9jd3F-lZ1Dq",
        "outputId": "3c662920-f378-4e0c-d68b-31db3f8ed297"
      },
      "execution_count": null,
      "outputs": [
        {
          "output_type": "execute_result",
          "data": {
            "text/plain": [
              "{(1, 2), (2, 3), (2, 5), (2, 6)}"
            ]
          },
          "metadata": {},
          "execution_count": 11
        }
      ]
    },
    {
      "cell_type": "code",
      "source": [
        "a=int('01',2) # Imprime '0'\n",
        "a"
      ],
      "metadata": {
        "colab": {
          "base_uri": "https://localhost:8080/"
        },
        "id": "FLiQO8cD-03b",
        "outputId": "f1be82d5-97c2-4a18-8d40-4dc60a059d00"
      },
      "execution_count": null,
      "outputs": [
        {
          "output_type": "execute_result",
          "data": {
            "text/plain": [
              "1"
            ]
          },
          "metadata": {},
          "execution_count": 15
        }
      ]
    }
  ]
}